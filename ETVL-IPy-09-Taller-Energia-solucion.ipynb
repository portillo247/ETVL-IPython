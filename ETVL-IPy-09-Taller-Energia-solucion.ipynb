{
 "cells": [
  {
   "cell_type": "markdown",
   "metadata": {},
   "source": [
    "# Procesos ETVL usando IPython -- 9 -- Taller\n",
    "Notas de clase sobre la extracción, transformación, visualización y carga de datos usando IPython"
   ]
  },
  {
   "cell_type": "markdown",
   "metadata": {},
   "source": [
    "**Juan David Velásquez Henao**   \n",
    "jdvelasq@unal.edu.co  \n",
    "Universidad Nacional de Colombia, Sede Medellín  \n",
    "Facultad de Minas  \n",
    "Medellín, Colombia  \n",
    "\n",
    "[Licencia](https://github.com/jdvelasq/ETVL-IPython/blob/master/LICENCIA.txt)  \n",
    "[Readme](https://github.com/jdvelasq/ETVL-IPython/blob/master/Readme.md)"
   ]
  },
  {
   "cell_type": "markdown",
   "metadata": {},
   "source": [
    "**Software utilizado**.\n",
    "\n",
    "> Este es un documento interactivo escrito como un notebook de [Jupyter](http://jupyter.org), en el cual se presenta un tutorial sobre la extracción, transformación, visualización y carga de datos usando Python en el contexto de la ciencia de los datos. Los notebooks de Jupyter permiten incoporar simultáneamente código, texto, gráficos y ecuaciones. El código presentado en este notebook puede ejecutarse en los sistemas operativos  Windows, Linux y OS X.\n",
    "\n",
    "> Haga click [aquí](https://github.com/jdvelasq/guias-de-instalacion) para obtener instrucciones detalladas sobre como instalar Jupyter en Windows y Mac OS X.\n",
    "\n",
    "> Haga clic [aquí](http://nbviewer.jupyter.org/github/jdvelasq/ETVL-IPython/blob/master/ETVL-IPy-4-transformacion.ipynb) para ver la última versión de este documento en nbviewer.\n",
    "\n",
    "> Descargue la última versión de este documento a su disco duro; luego, carguelo y ejecutelo en línea en [Try Jupyter!](https://try.jupyter.org)"
   ]
  },
  {
   "cell_type": "markdown",
   "metadata": {},
   "source": [
    "#### Contenido"
   ]
  },
  {
   "cell_type": "markdown",
   "metadata": {},
   "source": [
    "* "
   ]
  },
  {
   "cell_type": "markdown",
   "metadata": {},
   "source": [
    "Para el archivo `AportesDiario_2015.csv`, responda las siguientes preguntas usando IPython."
   ]
  },
  {
   "cell_type": "code",
   "execution_count": 1,
   "metadata": {
    "collapsed": true
   },
   "outputs": [],
   "source": [
    "import pandas as pd"
   ]
  },
  {
   "cell_type": "code",
   "execution_count": 3,
   "metadata": {
    "collapsed": false
   },
   "outputs": [
    {
     "data": {
      "text/html": [
       "<div>\n",
       "<table border=\"1\" class=\"dataframe\">\n",
       "  <thead>\n",
       "    <tr style=\"text-align: right;\">\n",
       "      <th></th>\n",
       "      <th>Fecha</th>\n",
       "      <th>Region Hidrologica</th>\n",
       "      <th>Nombre Rio</th>\n",
       "      <th>Aportes Caudal m3/s</th>\n",
       "      <th>Aportes Energia kWh</th>\n",
       "      <th>Aportes %</th>\n",
       "    </tr>\n",
       "  </thead>\n",
       "  <tbody>\n",
       "    <tr>\n",
       "      <th>0</th>\n",
       "      <td>2015-01-01</td>\n",
       "      <td>ANTIOQUIA</td>\n",
       "      <td>A. SAN LORENZO</td>\n",
       "      <td>19.39</td>\n",
       "      <td>4431100.0</td>\n",
       "      <td>79,70%</td>\n",
       "    </tr>\n",
       "    <tr>\n",
       "      <th>1</th>\n",
       "      <td>2015-01-01</td>\n",
       "      <td>ANTIOQUIA</td>\n",
       "      <td>CONCEPCION</td>\n",
       "      <td>4.64</td>\n",
       "      <td>1266200.0</td>\n",
       "      <td>90,44%</td>\n",
       "    </tr>\n",
       "    <tr>\n",
       "      <th>2</th>\n",
       "      <td>2015-01-01</td>\n",
       "      <td>ANTIOQUIA</td>\n",
       "      <td>DESV. EEPPM (NEC,PAJ,DOL)</td>\n",
       "      <td>6.10</td>\n",
       "      <td>1666400.0</td>\n",
       "      <td>76,09%</td>\n",
       "    </tr>\n",
       "    <tr>\n",
       "      <th>3</th>\n",
       "      <td>2015-01-01</td>\n",
       "      <td>ANTIOQUIA</td>\n",
       "      <td>DESV. MANSO</td>\n",
       "      <td>0.00</td>\n",
       "      <td>NaN</td>\n",
       "      <td>NaN</td>\n",
       "    </tr>\n",
       "    <tr>\n",
       "      <th>4</th>\n",
       "      <td>2015-01-01</td>\n",
       "      <td>ANTIOQUIA</td>\n",
       "      <td>GRANDE</td>\n",
       "      <td>14.79</td>\n",
       "      <td>4638900.0</td>\n",
       "      <td>63,20%</td>\n",
       "    </tr>\n",
       "  </tbody>\n",
       "</table>\n",
       "</div>"
      ],
      "text/plain": [
       "        Fecha Region Hidrologica                 Nombre Rio  \\\n",
       "0  2015-01-01          ANTIOQUIA             A. SAN LORENZO   \n",
       "1  2015-01-01          ANTIOQUIA                 CONCEPCION   \n",
       "2  2015-01-01          ANTIOQUIA  DESV. EEPPM (NEC,PAJ,DOL)   \n",
       "3  2015-01-01          ANTIOQUIA                DESV. MANSO   \n",
       "4  2015-01-01          ANTIOQUIA                     GRANDE   \n",
       "\n",
       "   Aportes Caudal m3/s  Aportes Energia kWh Aportes %  \n",
       "0                19.39            4431100.0    79,70%  \n",
       "1                 4.64            1266200.0    90,44%  \n",
       "2                 6.10            1666400.0    76,09%  \n",
       "3                 0.00                  NaN       NaN  \n",
       "4                14.79            4638900.0    63,20%  "
      ]
     },
     "execution_count": 3,
     "metadata": {},
     "output_type": "execute_result"
    }
   ],
   "source": [
    "x = pd.read_csv('AportesDiario_2015.csv', sep=';', decimal=',', thousands='.', skiprows=3)\n",
    "x.head()"
   ]
  },
  {
   "cell_type": "markdown",
   "metadata": {},
   "source": [
    "**1.--** Cuántos registros tiene el archivo?"
   ]
  },
  {
   "cell_type": "code",
   "execution_count": 4,
   "metadata": {
    "collapsed": false
   },
   "outputs": [
    {
     "data": {
      "text/plain": [
       "61602"
      ]
     },
     "execution_count": 4,
     "metadata": {},
     "output_type": "execute_result"
    }
   ],
   "source": [
    "x.size"
   ]
  },
  {
   "cell_type": "code",
   "execution_count": 6,
   "metadata": {
    "collapsed": false
   },
   "outputs": [
    {
     "data": {
      "text/html": [
       "<div>\n",
       "<table border=\"1\" class=\"dataframe\">\n",
       "  <thead>\n",
       "    <tr style=\"text-align: right;\">\n",
       "      <th></th>\n",
       "      <th>Fecha</th>\n",
       "      <th>Region Hidrologica</th>\n",
       "      <th>Nombre Rio</th>\n",
       "      <th>Aportes Caudal m3/s</th>\n",
       "      <th>Aportes Energia kWh</th>\n",
       "      <th>Aportes %</th>\n",
       "    </tr>\n",
       "  </thead>\n",
       "  <tbody>\n",
       "    <tr>\n",
       "      <th>10262</th>\n",
       "      <td>2015-12-31</td>\n",
       "      <td>VALLE</td>\n",
       "      <td>CAUCA SALVAJINA</td>\n",
       "      <td>21.24</td>\n",
       "      <td>506100.0</td>\n",
       "      <td>9,87%</td>\n",
       "    </tr>\n",
       "    <tr>\n",
       "      <th>10263</th>\n",
       "      <td>2015-12-31</td>\n",
       "      <td>VALLE</td>\n",
       "      <td>DIGUA</td>\n",
       "      <td>10.28</td>\n",
       "      <td>131300.0</td>\n",
       "      <td>27,94%</td>\n",
       "    </tr>\n",
       "    <tr>\n",
       "      <th>10264</th>\n",
       "      <td>2015-12-31</td>\n",
       "      <td>VALLE</td>\n",
       "      <td>FLORIDA II</td>\n",
       "      <td>5.24</td>\n",
       "      <td>104800.0</td>\n",
       "      <td>58,22%</td>\n",
       "    </tr>\n",
       "    <tr>\n",
       "      <th>10265</th>\n",
       "      <td>NaN</td>\n",
       "      <td>NaN</td>\n",
       "      <td>NaN</td>\n",
       "      <td>NaN</td>\n",
       "      <td>NaN</td>\n",
       "      <td>NaN</td>\n",
       "    </tr>\n",
       "    <tr>\n",
       "      <th>10266</th>\n",
       "      <td>NaN</td>\n",
       "      <td>NaN</td>\n",
       "      <td>NaN</td>\n",
       "      <td>NaN</td>\n",
       "      <td>NaN</td>\n",
       "      <td>NaN</td>\n",
       "    </tr>\n",
       "  </tbody>\n",
       "</table>\n",
       "</div>"
      ],
      "text/plain": [
       "            Fecha Region Hidrologica       Nombre Rio  Aportes Caudal m3/s  \\\n",
       "10262  2015-12-31              VALLE  CAUCA SALVAJINA                21.24   \n",
       "10263  2015-12-31              VALLE            DIGUA                10.28   \n",
       "10264  2015-12-31              VALLE       FLORIDA II                 5.24   \n",
       "10265         NaN                NaN              NaN                  NaN   \n",
       "10266         NaN                NaN              NaN                  NaN   \n",
       "\n",
       "       Aportes Energia kWh Aportes %  \n",
       "10262             506100.0     9,87%  \n",
       "10263             131300.0    27,94%  \n",
       "10264             104800.0    58,22%  \n",
       "10265                  NaN       NaN  \n",
       "10266                  NaN       NaN  "
      ]
     },
     "execution_count": 6,
     "metadata": {},
     "output_type": "execute_result"
    }
   ],
   "source": [
    "x.tail()"
   ]
  },
  {
   "cell_type": "code",
   "execution_count": 7,
   "metadata": {
    "collapsed": false
   },
   "outputs": [
    {
     "data": {
      "text/plain": [
       "10267"
      ]
     },
     "execution_count": 7,
     "metadata": {},
     "output_type": "execute_result"
    }
   ],
   "source": [
    "len(x)"
   ]
  },
  {
   "cell_type": "markdown",
   "metadata": {},
   "source": [
    "**2.--** Cuántas regiones hidrológicas diferentes hay?"
   ]
  },
  {
   "cell_type": "code",
   "execution_count": 9,
   "metadata": {
    "collapsed": false
   },
   "outputs": [
    {
     "data": {
      "text/plain": [
       "{nan, 'ORIENTE', 'VALLE', 'ANTIOQUIA', 'CENTRO', 'RIOS ESTIMADOS', 'CARIBE'}"
      ]
     },
     "execution_count": 9,
     "metadata": {},
     "output_type": "execute_result"
    }
   ],
   "source": [
    "z=set(x['Region Hidrologica'])\n",
    "z"
   ]
  },
  {
   "cell_type": "code",
   "execution_count": 10,
   "metadata": {
    "collapsed": false
   },
   "outputs": [
    {
     "data": {
      "text/plain": [
       "7"
      ]
     },
     "execution_count": 10,
     "metadata": {},
     "output_type": "execute_result"
    }
   ],
   "source": [
    "len (z)"
   ]
  },
  {
   "cell_type": "code",
   "execution_count": null,
   "metadata": {
    "collapsed": true
   },
   "outputs": [],
   "source": []
  },
  {
   "cell_type": "markdown",
   "metadata": {},
   "source": [
    "**3.--** Cuántos rios hay?"
   ]
  },
  {
   "cell_type": "code",
   "execution_count": 11,
   "metadata": {
    "collapsed": true
   },
   "outputs": [],
   "source": [
    "y=set(x['Nombre Rio'])"
   ]
  },
  {
   "cell_type": "code",
   "execution_count": 12,
   "metadata": {
    "collapsed": false
   },
   "outputs": [
    {
     "data": {
      "text/plain": [
       "{nan,\n",
       " 'GUAVIO',\n",
       " 'FLORIDA II',\n",
       " 'CHUZA',\n",
       " 'BETANIA CP',\n",
       " 'SOGAMOSO',\n",
       " 'EL QUIMBO',\n",
       " 'AMOYA',\n",
       " 'NARE',\n",
       " 'OTROS RIOS (ESTIMADOS)',\n",
       " 'SAN CARLOS',\n",
       " 'MIEL I',\n",
       " 'DESV. MANSO',\n",
       " 'PRADO',\n",
       " 'PORCE II',\n",
       " 'DESV. EEPPM (NEC,PAJ,DOL)',\n",
       " 'CAUCA SALVAJINA',\n",
       " 'MAGDALENA BETANIA',\n",
       " 'CALIMA',\n",
       " 'SINU URRA',\n",
       " 'GRANDE',\n",
       " 'ALTOANCHICAYA',\n",
       " 'BATA',\n",
       " 'A. SAN LORENZO',\n",
       " 'DIGUA',\n",
       " 'TENCHE',\n",
       " 'GUADALUPE',\n",
       " 'PORCE III',\n",
       " 'CONCEPCION',\n",
       " 'GUATAPE',\n",
       " 'BOGOTA N.R.'}"
      ]
     },
     "execution_count": 12,
     "metadata": {},
     "output_type": "execute_result"
    }
   ],
   "source": [
    "y"
   ]
  },
  {
   "cell_type": "markdown",
   "metadata": {},
   "source": [
    "**4.--** Cuántos registros hay por región hidrológica?"
   ]
  },
  {
   "cell_type": "code",
   "execution_count": 13,
   "metadata": {
    "collapsed": false
   },
   "outputs": [
    {
     "data": {
      "text/plain": [
       "Region Hidrologica\n",
       "ANTIOQUIA         4745\n",
       "CARIBE             365\n",
       "CENTRO            1870\n",
       "ORIENTE           1095\n",
       "RIOS ESTIMADOS     365\n",
       "VALLE             1825\n",
       "dtype: int64"
      ]
     },
     "execution_count": 13,
     "metadata": {},
     "output_type": "execute_result"
    }
   ],
   "source": [
    "y=x.groupby('Region Hidrologica')\n",
    "y.size()"
   ]
  },
  {
   "cell_type": "markdown",
   "metadata": {},
   "source": [
    "**5.--** Cuál es el promedio de aportes en energía kWh por región?"
   ]
  },
  {
   "cell_type": "code",
   "execution_count": 14,
   "metadata": {
    "collapsed": false
   },
   "outputs": [
    {
     "data": {
      "text/plain": [
       "Region Hidrologica\n",
       "ANTIOQUIA         4.458441e+06\n",
       "CARIBE            3.036068e+06\n",
       "CENTRO            5.426429e+06\n",
       "ORIENTE           1.216842e+07\n",
       "RIOS ESTIMADOS    2.859855e+06\n",
       "VALLE             1.212576e+06\n",
       "Name: Aportes Energia kWh, dtype: float64"
      ]
     },
     "execution_count": 14,
     "metadata": {},
     "output_type": "execute_result"
    }
   ],
   "source": [
    "x.groupby('Region Hidrologica').mean()['Aportes Energia kWh']"
   ]
  },
  {
   "cell_type": "markdown",
   "metadata": {},
   "source": [
    "**6.--** Cuáles registros no tienen datos?"
   ]
  },
  {
   "cell_type": "code",
   "execution_count": 30,
   "metadata": {
    "collapsed": false
   },
   "outputs": [
    {
     "data": {
      "text/plain": [
       "611"
      ]
     },
     "execution_count": 30,
     "metadata": {},
     "output_type": "execute_result"
    }
   ],
   "source": [
    "len(x) - len(x.dropna())"
   ]
  },
  {
   "cell_type": "code",
   "execution_count": 32,
   "metadata": {
    "collapsed": false,
    "scrolled": false
   },
   "outputs": [
    {
     "data": {
      "text/html": [
       "<div>\n",
       "<table border=\"1\" class=\"dataframe\">\n",
       "  <thead>\n",
       "    <tr style=\"text-align: right;\">\n",
       "      <th></th>\n",
       "      <th>Fecha</th>\n",
       "      <th>Region Hidrologica</th>\n",
       "      <th>Nombre Rio</th>\n",
       "      <th>Aportes Caudal m3/s</th>\n",
       "      <th>Aportes Energia kWh</th>\n",
       "      <th>Aportes %</th>\n",
       "    </tr>\n",
       "  </thead>\n",
       "  <tbody>\n",
       "    <tr>\n",
       "      <th>3</th>\n",
       "      <td>2015-01-01</td>\n",
       "      <td>ANTIOQUIA</td>\n",
       "      <td>DESV. MANSO</td>\n",
       "      <td>0.0</td>\n",
       "      <td>NaN</td>\n",
       "      <td>NaN</td>\n",
       "    </tr>\n",
       "    <tr>\n",
       "      <th>15</th>\n",
       "      <td>2015-01-01</td>\n",
       "      <td>CENTRO</td>\n",
       "      <td>BOGOTA N.R.</td>\n",
       "      <td>0.0</td>\n",
       "      <td>NaN</td>\n",
       "      <td>NaN</td>\n",
       "    </tr>\n",
       "    <tr>\n",
       "      <th>31</th>\n",
       "      <td>2015-01-02</td>\n",
       "      <td>ANTIOQUIA</td>\n",
       "      <td>DESV. MANSO</td>\n",
       "      <td>0.0</td>\n",
       "      <td>NaN</td>\n",
       "      <td>NaN</td>\n",
       "    </tr>\n",
       "    <tr>\n",
       "      <th>43</th>\n",
       "      <td>2015-01-02</td>\n",
       "      <td>CENTRO</td>\n",
       "      <td>BOGOTA N.R.</td>\n",
       "      <td>0.0</td>\n",
       "      <td>NaN</td>\n",
       "      <td>NaN</td>\n",
       "    </tr>\n",
       "    <tr>\n",
       "      <th>59</th>\n",
       "      <td>2015-01-03</td>\n",
       "      <td>ANTIOQUIA</td>\n",
       "      <td>DESV. MANSO</td>\n",
       "      <td>0.0</td>\n",
       "      <td>NaN</td>\n",
       "      <td>NaN</td>\n",
       "    </tr>\n",
       "  </tbody>\n",
       "</table>\n",
       "</div>"
      ],
      "text/plain": [
       "         Fecha Region Hidrologica   Nombre Rio  Aportes Caudal m3/s  \\\n",
       "3   2015-01-01          ANTIOQUIA  DESV. MANSO                  0.0   \n",
       "15  2015-01-01             CENTRO  BOGOTA N.R.                  0.0   \n",
       "31  2015-01-02          ANTIOQUIA  DESV. MANSO                  0.0   \n",
       "43  2015-01-02             CENTRO  BOGOTA N.R.                  0.0   \n",
       "59  2015-01-03          ANTIOQUIA  DESV. MANSO                  0.0   \n",
       "\n",
       "    Aportes Energia kWh Aportes %  \n",
       "3                   NaN       NaN  \n",
       "15                  NaN       NaN  \n",
       "31                  NaN       NaN  \n",
       "43                  NaN       NaN  \n",
       "59                  NaN       NaN  "
      ]
     },
     "execution_count": 32,
     "metadata": {},
     "output_type": "execute_result"
    }
   ],
   "source": [
    "x[x['Aportes Energia kWh'].isnull()].head()"
   ]
  },
  {
   "cell_type": "markdown",
   "metadata": {},
   "source": [
    "**7.--** Grafique (gráfico de barras) la producción promedio por región hidrológica?"
   ]
  },
  {
   "cell_type": "code",
   "execution_count": 35,
   "metadata": {
    "collapsed": true
   },
   "outputs": [],
   "source": [
    "import matplotlib\n",
    "%matplotlib inline"
   ]
  },
  {
   "cell_type": "code",
   "execution_count": 36,
   "metadata": {
    "collapsed": false
   },
   "outputs": [
    {
     "data": {
      "text/plain": [
       "<matplotlib.axes._subplots.AxesSubplot at 0x118672fd0>"
      ]
     },
     "execution_count": 36,
     "metadata": {},
     "output_type": "execute_result"
    },
    {
     "data": {
      "image/png": "[encoded data removed]",
      "text/plain": [
       "<matplotlib.figure.Figure at 0x11867a1d0>"
      ]
     },
     "metadata": {},
     "output_type": "display_data"
    }
   ],
   "source": [
    "x.groupby('Region Hidrologica').mean()['Aportes Energia kWh'].plot(kind='bar')"
   ]
  },
  {
   "cell_type": "code",
   "execution_count": null,
   "metadata": {
    "collapsed": true
   },
   "outputs": [],
   "source": []
  },
  {
   "cell_type": "code",
   "execution_count": null,
   "metadata": {
    "collapsed": true
   },
   "outputs": [],
   "source": []
  },
  {
   "cell_type": "code",
   "execution_count": null,
   "metadata": {
    "collapsed": true
   },
   "outputs": [],
   "source": []
  },
  {
   "cell_type": "code",
   "execution_count": null,
   "metadata": {
    "collapsed": true
   },
   "outputs": [],
   "source": []
  }
 ],
 "metadata": {
  "kernelspec": {
   "display_name": "Python [default]",
   "language": "python",
   "name": "python3"
  },
  "language_info": {
   "codemirror_mode": {
    "name": "ipython",
    "version": 3
   },
   "file_extension": ".py",
   "mimetype": "text/x-python",
   "name": "python",
   "nbconvert_exporter": "python",
   "pygments_lexer": "ipython3",
   "version": "3.5.2"
  }
 },
 "nbformat": 4,
 "nbformat_minor": 1
}
